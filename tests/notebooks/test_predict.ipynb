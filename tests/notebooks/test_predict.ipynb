{
 "cells": [
  {
   "cell_type": "code",
   "execution_count": 1,
   "id": "eea64e77",
   "metadata": {},
   "outputs": [
    {
     "name": "stdout",
     "output_type": "stream",
     "text": [
      "/glade/u/home/ayal/tft-torch/tft_torch/__init__.py\n"
     ]
    },
    {
     "name": "stderr",
     "output_type": "stream",
     "text": [
      "/glade/u/home/ayal/.local/lib/python3.10/site-packages/sklearn/base.py:440: InconsistentVersionWarning: Trying to unpickle estimator QuantileTransformer from version 1.6.1 when using version 1.7.0. This might lead to breaking code or invalid results. Use at your own risk. For more info please refer to:\n",
      "https://scikit-learn.org/stable/model_persistence.html#security-maintainability-limitations\n",
      "  warnings.warn(\n",
      "/glade/u/home/ayal/.local/lib/python3.10/site-packages/sklearn/base.py:440: InconsistentVersionWarning: Trying to unpickle estimator StandardScaler from version 1.6.1 when using version 1.7.0. This might lead to breaking code or invalid results. Use at your own risk. For more info please refer to:\n",
      "https://scikit-learn.org/stable/model_persistence.html#security-maintainability-limitations\n",
      "  warnings.warn(\n"
     ]
    }
   ],
   "source": [
    "import torch\n",
    "import os\n",
    "from tft_torch.tft import TemporalFusionTransformer\n",
    "import pickle\n",
    "from omegaconf import OmegaConf, DictConfig\n",
    "import torch\n",
    "import tft_torch\n",
    "\n",
    "print(tft_torch.__file__)\n",
    "checkpoint_path = \"/glade/u/home/ayal/phenology-ml-clm/models/tft_scripted.pt\"\n",
    "data_path = \"/glade/u/home/ayal/phenology-ml-clm/data/USMMS_to_tft_06132025.pkl\"\n",
    "\n",
    "configuration = {'optimization':\n",
    "                {\n",
    "                    'batch_size': {'training': 8, 'inference': 8},# both were 64 before\n",
    "                    'learning_rate': 1e-4,#was 0.001\n",
    "                    'max_grad_norm': 1.0,\n",
    "                }\n",
    "                ,\n",
    "                'model':\n",
    "                {\n",
    "                    'dropout': 0.2,#was 0.05 \n",
    "                    'state_size': 160,\n",
    "                    'output_quantiles': [0.1, 0.5, 0.9],\n",
    "                    'lstm_layers': 4,#was 2\n",
    "                    'attention_heads': 4 \n",
    "                },\n",
    "                # these arguments are related to possible extensions of the model class\n",
    "                'task_type':'regression',\n",
    "                'target_window_start': None, \n",
    "                'checkpoint': checkpoint_path}\n",
    "\n",
    "#load the data\n",
    "with open(data_path,'rb') as fp:\n",
    "        data = pickle.load(fp)\n",
    "        \n",
    "feature_map = data['feature_map']\n",
    "cardinalities_map = data['categorical_cardinalities']\n",
    "\n",
    "\n",
    "structure = {\n",
    "            'num_historical_numeric': len(feature_map['historical_ts_numeric']),\n",
    "            'num_historical_categorical': len(feature_map['historical_ts_categorical']),\n",
    "            'num_static_numeric': len(feature_map['static_feats_numeric']),\n",
    "            'num_static_categorical': len(feature_map['static_feats_categorical']),\n",
    "            'num_future_numeric': len(feature_map['future_ts_numeric']),\n",
    "            'num_future_categorical': len(feature_map['future_ts_categorical']),\n",
    "            'historical_categorical_cardinalities': [cardinalities_map[feat] + 1 for feat in feature_map['historical_ts_categorical']],\n",
    "            'static_categorical_cardinalities': [cardinalities_map[feat] + 1 for feat in feature_map['static_feats_categorical']],\n",
    "            'future_categorical_cardinalities': [cardinalities_map[feat] + 1 for feat in feature_map['future_ts_categorical']],\n",
    "        }\n",
    "\n",
    "configuration['data_props'] = structure\n",
    "\n"
   ]
  },
  {
   "cell_type": "code",
   "execution_count": 2,
   "id": "10298a76",
   "metadata": {},
   "outputs": [
    {
     "data": {
      "text/plain": [
       "{'optimization': {'batch_size': {'training': 8, 'inference': 8},\n",
       "  'learning_rate': 0.0001,\n",
       "  'max_grad_norm': 1.0},\n",
       " 'model': {'dropout': 0.2,\n",
       "  'state_size': 160,\n",
       "  'output_quantiles': [0.1, 0.5, 0.9],\n",
       "  'lstm_layers': 4,\n",
       "  'attention_heads': 4},\n",
       " 'task_type': 'regression',\n",
       " 'target_window_start': None,\n",
       " 'checkpoint': '/glade/u/home/ayal/phenology-ml-clm/models/tft_scripted.pt',\n",
       " 'data_props': {'num_historical_numeric': 8,\n",
       "  'num_historical_categorical': 0,\n",
       "  'num_static_numeric': 2,\n",
       "  'num_static_categorical': 0,\n",
       "  'num_future_numeric': 1,\n",
       "  'num_future_categorical': 0,\n",
       "  'historical_categorical_cardinalities': [],\n",
       "  'static_categorical_cardinalities': [],\n",
       "  'future_categorical_cardinalities': []}}"
      ]
     },
     "execution_count": 2,
     "metadata": {},
     "output_type": "execute_result"
    }
   ],
   "source": [
    "configuration\n",
    "\n",
    "\n",
    "\n",
    "#model = TemporalFusionTransformer(config=OmegaConf.create(configuration))"
   ]
  },
  {
   "cell_type": "code",
   "execution_count": 3,
   "id": "811174de",
   "metadata": {},
   "outputs": [
    {
     "data": {
      "text/plain": [
       "{'optimization': {'batch_size': {'training': 8, 'inference': 8}, 'learning_rate': 0.0001, 'max_grad_norm': 1.0}, 'model': {'dropout': 0.2, 'state_size': 160, 'output_quantiles': [0.1, 0.5, 0.9], 'lstm_layers': 4, 'attention_heads': 4}, 'task_type': 'regression', 'target_window_start': None, 'checkpoint': '/glade/u/home/ayal/phenology-ml-clm/models/tft_scripted.pt', 'data_props': {'num_historical_numeric': 8, 'num_historical_categorical': 0, 'num_static_numeric': 2, 'num_static_categorical': 0, 'num_future_numeric': 1, 'num_future_categorical': 0, 'historical_categorical_cardinalities': [], 'static_categorical_cardinalities': [], 'future_categorical_cardinalities': []}}"
      ]
     },
     "execution_count": 3,
     "metadata": {},
     "output_type": "execute_result"
    }
   ],
   "source": [
    "OmegaConf.create(configuration)"
   ]
  },
  {
   "cell_type": "code",
   "execution_count": 4,
   "id": "ff6b8b53",
   "metadata": {},
   "outputs": [],
   "source": [
    "configuration_test = {\n",
    "    \"task_type\": \"regression\",\n",
    "    \"target_window_start\": None,\n",
    "    \"data_props\": {'num_historical_numeric': 8, #tmin, tmax, prcp, srad, swc, photoperiod, doy, lai,\n",
    "  'num_historical_categorical': 0,\n",
    "  'num_static_numeric': 2, # lat, lon\n",
    "  'num_static_categorical': 0,\n",
    "  'num_future_numeric': 1, # doy\n",
    "  'num_future_categorical': 0,\n",
    "  'historical_categorical_cardinalities': [],\n",
    "  'static_categorical_cardinalities': [],\n",
    "  'future_categorical_cardinalities': []},\n",
    "    \"model\": {\n",
    "        \"attention_heads\": 4,\n",
    "        \"dropout\": 0.2,\n",
    "        \"lstm_layers\": 4,\n",
    "        \"state_size\": 64,\n",
    "        \"output_quantiles\": [0.1, 0.5, 0.9],\n",
    "    },\n",
    "}\n"
   ]
  },
  {
   "cell_type": "code",
   "execution_count": 10,
   "id": "0135b4b8",
   "metadata": {},
   "outputs": [],
   "source": [
    "model = TemporalFusionTransformer(config=OmegaConf.create(configuration_test))"
   ]
  },
  {
   "cell_type": "code",
   "execution_count": 14,
   "id": "093f82c6",
   "metadata": {},
   "outputs": [],
   "source": [
    "is_cuda = torch.cuda.is_available()\n",
    "device = torch.device(\"cuda\" if is_cuda else \"cpu\")\n",
    "model = torch.jit.load(checkpoint_path, map_location=\"cpu\")\n"
   ]
  },
  {
   "cell_type": "code",
   "execution_count": 15,
   "id": "b7c5979d",
   "metadata": {},
   "outputs": [
    {
     "data": {
      "text/plain": [
       "RecursiveScriptModule(original_name=TemporalFusionTransformer)"
      ]
     },
     "execution_count": 15,
     "metadata": {},
     "output_type": "execute_result"
    }
   ],
   "source": [
    "model.eval()"
   ]
  },
  {
   "cell_type": "code",
   "execution_count": null,
   "id": "fac0a58a",
   "metadata": {},
   "outputs": [],
   "source": [
    "import torch\n",
    "\n",
    "B, T_hist, T_fut = 8, 60, 10\n",
    "\n",
    "# static\n",
    "static_num = torch.randn(B, 2)        #lat,long   \n",
    "static_cat = torch.empty(B, 0, dtype=torch.long)\n",
    "# historical\n",
    "hist_num   = torch.randn(B, T_hist, 4)\n",
    "hist_cat   = torch.randint(0, 5, (B, T_hist, 2), dtype=torch.long)\n",
    "# future\n",
    "fut_num    = torch.randn(B, T_fut, 1)\n",
    "fut_cat    = torch.randint(0, 7, (B, T_fut, 1), dtype=torch.long)\n",
    "\n",
    "\n",
    "\"\"\"'data_props': {'num_historical_numeric': 8,\n",
    "  'num_historical_categorical': 0,\n",
    "  'num_static_numeric': 2,\n",
    "  'num_static_categorical': 0,\n",
    "  'num_future_numeric': 1,\n",
    "  'num_future_categorical': 0,\n",
    "  'historical_categorical_cardinalities': [],\n",
    "  'static_categorical_cardinalities': [],\n",
    "  'future_categorical_cardinalities': []}}\"\"\"\n",
    "\n",
    "\n",
    "\n",
    "# load and run your scripted model\n",
    "scripted = torch.jit.load(\"tft_scripted.pt\")\n",
    "scripted.eval()\n",
    "with torch.no_grad():\n",
    "    # returns (B, T_fut, 3)\n",
    "    out = scripted(static_num,\n",
    "                   static_cat,\n",
    "                   hist_num,\n",
    "                   hist_cat,\n",
    "                   fut_num,\n",
    "                   fut_cat)\n",
    "\n",
    "print(out.shape)  # torch.Size([16, 12, 3])\n"
   ]
  },
  {
   "cell_type": "code",
   "execution_count": null,
   "id": "50100a92",
   "metadata": {},
   "outputs": [],
   "source": [
    "# suppose you have inputs as a Tensor or a tuple of Tensors:\n",
    "with torch.no_grad():\n",
    "    out = scripted_model(my_input_tensor)"
   ]
  }
 ],
 "metadata": {
  "kernelspec": {
   "display_name": "tft-script",
   "language": "python",
   "name": "python3"
  },
  "language_info": {
   "codemirror_mode": {
    "name": "ipython",
    "version": 3
   },
   "file_extension": ".py",
   "mimetype": "text/x-python",
   "name": "python",
   "nbconvert_exporter": "python",
   "pygments_lexer": "ipython3",
   "version": "3.10.18"
  }
 },
 "nbformat": 4,
 "nbformat_minor": 5
}
